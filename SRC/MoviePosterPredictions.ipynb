{
 "cells": [
  {
   "cell_type": "code",
   "execution_count": 266,
   "metadata": {},
   "outputs": [],
   "source": [
    "import pandas as pd\n",
    "import numpy as np\n",
    "import seaborn as sn\n",
    "import matplotlib.pyplot as plt\n",
    "from matplotlib.pyplot import step, show\n",
    "\n",
    "from IPython.display import Image, HTML\n",
    "from PIL import Image\n",
    "\n",
    "import tensorflow as tf\n",
    "from tensorflow.keras import layers\n",
    "from tensorflow.keras import datasets, layers, models\n",
    "from tensorflow.keras.utils import to_categorical\n",
    "\n",
    "from sklearn.metrics import confusion_matrix\n",
    "from sklearn.preprocessing import LabelEncoder\n",
    "encoder =  LabelEncoder()\n",
    "\n",
    "from sklearn.model_selection import train_test_split\n",
    "import keras\n",
    "from keras.models import Sequential\n",
    "from keras.layers import Dense, Conv2D, MaxPooling2D, Dropout, Flatten\n",
    "from keras.wrappers.scikit_learn import KerasClassifier\n",
    "\n",
    "import requests\n",
    "import time\n",
    "import re\n",
    "import os"
   ]
  },
  {
   "cell_type": "markdown",
   "metadata": {},
   "source": [
    "## loading data"
   ]
  },
  {
   "cell_type": "code",
   "execution_count": 42,
   "metadata": {},
   "outputs": [
    {
     "data": {
      "text/html": [
       "<div>\n",
       "<style scoped>\n",
       "    .dataframe tbody tr th:only-of-type {\n",
       "        vertical-align: middle;\n",
       "    }\n",
       "\n",
       "    .dataframe tbody tr th {\n",
       "        vertical-align: top;\n",
       "    }\n",
       "\n",
       "    .dataframe thead th {\n",
       "        text-align: right;\n",
       "    }\n",
       "</style>\n",
       "<table border=\"1\" class=\"dataframe\">\n",
       "  <thead>\n",
       "    <tr style=\"text-align: right;\">\n",
       "      <th></th>\n",
       "      <th>PosterURL</th>\n",
       "      <th>Title</th>\n",
       "      <th>Genre</th>\n",
       "    </tr>\n",
       "  </thead>\n",
       "  <tbody>\n",
       "    <tr>\n",
       "      <th>0</th>\n",
       "      <td>https://a.ltrbxd.com/resized/sm/upload/5b/u9/a...</td>\n",
       "      <td>American Psycho (2000)</td>\n",
       "      <td>thriller</td>\n",
       "    </tr>\n",
       "    <tr>\n",
       "      <th>1</th>\n",
       "      <td>https://a.ltrbxd.com/resized/film-poster/5/1/7...</td>\n",
       "      <td>Barton Fink (1991)</td>\n",
       "      <td>thriller</td>\n",
       "    </tr>\n",
       "    <tr>\n",
       "      <th>2</th>\n",
       "      <td>https://a.ltrbxd.com/resized/sm/upload/yt/ae/i...</td>\n",
       "      <td>Black Swan (2010)</td>\n",
       "      <td>thriller</td>\n",
       "    </tr>\n",
       "    <tr>\n",
       "      <th>3</th>\n",
       "      <td>https://a.ltrbxd.com/resized/sm/upload/ye/jq/f...</td>\n",
       "      <td>Donnie Darko (2001)</td>\n",
       "      <td>thriller</td>\n",
       "    </tr>\n",
       "    <tr>\n",
       "      <th>4</th>\n",
       "      <td>https://a.ltrbxd.com/resized/sm/upload/sj/00/0...</td>\n",
       "      <td>Enemy (2013)</td>\n",
       "      <td>thriller</td>\n",
       "    </tr>\n",
       "  </tbody>\n",
       "</table>\n",
       "</div>"
      ],
      "text/plain": [
       "                                           PosterURL                   Title  \\\n",
       "0  https://a.ltrbxd.com/resized/sm/upload/5b/u9/a...  American Psycho (2000)   \n",
       "1  https://a.ltrbxd.com/resized/film-poster/5/1/7...      Barton Fink (1991)   \n",
       "2  https://a.ltrbxd.com/resized/sm/upload/yt/ae/i...       Black Swan (2010)   \n",
       "3  https://a.ltrbxd.com/resized/sm/upload/ye/jq/f...     Donnie Darko (2001)   \n",
       "4  https://a.ltrbxd.com/resized/sm/upload/sj/00/0...            Enemy (2013)   \n",
       "\n",
       "      Genre  \n",
       "0  thriller  \n",
       "1  thriller  \n",
       "2  thriller  \n",
       "3  thriller  \n",
       "4  thriller  "
      ]
     },
     "execution_count": 42,
     "metadata": {},
     "output_type": "execute_result"
    }
   ],
   "source": [
    "movies = pd.read_csv(r'/Users/teagannorrgard/ds4001/project3/movieCSVs/allMovies.csv')\n",
    "movies.head()"
   ]
  },
  {
   "cell_type": "code",
   "execution_count": 43,
   "metadata": {},
   "outputs": [
    {
     "data": {
      "text/plain": [
       "500"
      ]
     },
     "execution_count": 43,
     "metadata": {},
     "output_type": "execute_result"
    }
   ],
   "source": [
    "len(movies)"
   ]
  },
  {
   "cell_type": "code",
   "execution_count": 5,
   "metadata": {},
   "outputs": [],
   "source": [
    "## unused\n",
    "\n",
    "def path_to_image_html(path):\n",
    "    return '<img src=\"'+ path + '\" style=max-height:124px;\"/>'\n",
    "\n",
    "HTML(htmlmovies.to_html(escape=False ,formatters=dict(PosterURL=path_to_image_html)))\n"
   ]
  },
  {
   "cell_type": "markdown",
   "metadata": {},
   "source": [
    "## downloading images"
   ]
  },
  {
   "cell_type": "code",
   "execution_count": 54,
   "metadata": {},
   "outputs": [],
   "source": [
    "def download_poster(downloaded_image_dir, title, label, poster_path):\n",
    "  \n",
    "    if not os.path.exists(downloaded_image_dir):\n",
    "        os.makedirs(downloaded_image_dir)\n",
    "        \n",
    "    if not os.path.exists(downloaded_image_dir+'/'+label):\n",
    "        os.makedirs(downloaded_image_dir+'/'+label)\n",
    "\n",
    "    local_filename = re.sub(r'\\W+', ' ', title).lower().strip().replace(\" \", \"-\") + '.jpg'\n",
    "\n",
    "    try:\n",
    "        session = requests.Session()\n",
    "        r = session.get(poster_path, stream=True, verify=False)\n",
    "        with open(downloaded_image_dir+'/'+label+'/'+local_filename, 'wb') as f:\n",
    "            for chunk in r.iter_content(chunk_size=1024):\n",
    "                f.write(chunk)\n",
    "    except:\n",
    "        print('PROBLEM downloading', title,label,poster_path)\n",
    "    \n",
    "    time.sleep(1)"
   ]
  },
  {
   "cell_type": "code",
   "execution_count": null,
   "metadata": {},
   "outputs": [],
   "source": [
    "# download image by iterate pandas\n",
    "for index, row in movies.iterrows():\n",
    "    download_poster(\n",
    "        '/Users/teagannorrgard/ds4001/project3/posterimages/',\n",
    "        str(row['Title']),\n",
    "        str(row['Genre']),\n",
    "        row['PosterURL']\n",
    "    )"
   ]
  },
  {
   "cell_type": "code",
   "execution_count": 218,
   "metadata": {},
   "outputs": [],
   "source": [
    "import glob\n",
    "import cv2\n",
    "\n",
    "thriller_posters = [cv2.imread(file) for file in glob.glob(\"/Users/teagannorrgard/ds4001/project3/posterimages/thriller/*.jpg\")]\n",
    "comedy_posters = [cv2.imread(file) for file in glob.glob(\"/Users/teagannorrgard/ds4001/project3/posterimages/comedy/*.jpg\")]\n",
    "family_posters = [cv2.imread(file) for file in glob.glob(\"/Users/teagannorrgard/ds4001/project3/posterimages/family/*.jpg\")]\n",
    "horror_posters = [cv2.imread(file) for file in glob.glob(\"/Users/teagannorrgard/ds4001/project3/posterimages/horror/*.jpg\")]\n",
    "romance_posters = [cv2.imread(file) for file in glob.glob(\"/Users/teagannorrgard/ds4001/project3/posterimages/romance/*.jpg\")]\n",
    "action_posters = [cv2.imread(file) for file in glob.glob(\"/Users/teagannorrgard/ds4001/project3/posterimages/action/*.jpg\")]"
   ]
  },
  {
   "cell_type": "code",
   "execution_count": 283,
   "metadata": {},
   "outputs": [],
   "source": [
    "## cv2 package reads images as BGR instead of RGB. need to switch back to accurately represent colors\n",
    "\n",
    "RGB_thriller_posters = []\n",
    "for img in thriller_posters:\n",
    "    RGB_img = cv2.cvtColor(img, cv2.COLOR_BGR2RGB)\n",
    "    RGB_thriller_posters.append(RGB_img)\n",
    "\n",
    "RGB_comedy_posters = []\n",
    "for img in comedy_posters:\n",
    "    RGB_img = cv2.cvtColor(img, cv2.COLOR_BGR2RGB)\n",
    "    RGB_comedy_posters.append(RGB_img)\n",
    "\n",
    "RGB_family_posters = []\n",
    "for img in family_posters:\n",
    "    RGB_img = cv2.cvtColor(img, cv2.COLOR_BGR2RGB)\n",
    "    RGB_family_posters.append(RGB_img)\n",
    "\n",
    "RGB_horror_posters = []\n",
    "for img in horror_posters:\n",
    "    RGB_img = cv2.cvtColor(img, cv2.COLOR_BGR2RGB)\n",
    "    RGB_horror_posters.append(RGB_img)\n",
    "\n",
    "RGB_romance_posters = []\n",
    "for img in romance_posters:\n",
    "    RGB_img = cv2.cvtColor(img, cv2.COLOR_BGR2RGB)\n",
    "    RGB_romance_posters.append(RGB_img)\n",
    "\n",
    "RGB_action_posters = []\n",
    "for img in action_posters:\n",
    "    RGB_img = cv2.cvtColor(img, cv2.COLOR_BGR2RGB)\n",
    "    RGB_action_posters.append(RGB_img)"
   ]
  },
  {
   "cell_type": "code",
   "execution_count": 306,
   "metadata": {},
   "outputs": [
    {
     "data": {
      "image/png": "[encoded data removed]",
      "text/plain": [
       "<PIL.Image.Image image mode=RGB size=125x187 at 0x7FA9800E6FA0>"
      ]
     },
     "execution_count": 306,
     "metadata": {},
     "output_type": "execute_result"
    }
   ],
   "source": [
    "Image.fromarray(romance_posters[70])"
   ]
  },
  {
   "cell_type": "markdown",
   "metadata": {},
   "source": [
    "## add padding"
   ]
  },
  {
   "cell_type": "markdown",
   "metadata": {},
   "source": [
    "want to make all images square for CNN"
   ]
  },
  {
   "cell_type": "code",
   "execution_count": 307,
   "metadata": {},
   "outputs": [],
   "source": [
    "t_image_binaries = []\n",
    "t_image_colors = []\n",
    "for image in RGB_thriller_posters:\n",
    "    color_image = Image.fromarray(image)\n",
    "    width, height = color_image.size\n",
    "    new_width = height \n",
    "    result = Image.new(color_image.mode, (new_width, height), (0, 0, 255))\n",
    "    result.paste(color_image, (0, 0))\n",
    "    binimg = np.array(result)\n",
    "    t_image_binaries.append(binimg)\n",
    "    t_image_colors.append(result)\n",
    "\n",
    "c_image_binaries = []\n",
    "c_image_colors = []\n",
    "for image in RGB_comedy_posters:\n",
    "    color_image = Image.fromarray(image)\n",
    "    width, height = color_image.size\n",
    "    new_width = height \n",
    "    result = Image.new(color_image.mode, (new_width, height), (0, 0, 255))\n",
    "    result.paste(color_image, (0, 0))\n",
    "    binimg = np.array(result)\n",
    "    c_image_binaries.append(binimg)\n",
    "    c_image_colors.append(result)\n",
    "\n",
    "f_image_binaries = []\n",
    "f_image_colors = []\n",
    "for image in RGB_family_posters:\n",
    "    color_image = Image.fromarray(image)\n",
    "    width, height = color_image.size\n",
    "    new_width = height \n",
    "    result = Image.new(color_image.mode, (new_width, height), (0, 0, 255))\n",
    "    result.paste(color_image, (0, 0))\n",
    "    binimg = np.array(result)\n",
    "    f_image_binaries.append(binimg)\n",
    "    f_image_colors.append(result)\n",
    "\n",
    "h_image_binaries = []\n",
    "h_image_colors = []\n",
    "for image in RGB_horror_posters:\n",
    "    color_image = Image.fromarray(image)\n",
    "    width, height = color_image.size\n",
    "    new_width = height \n",
    "    result = Image.new(color_image.mode, (new_width, height), (0, 0, 255))\n",
    "    result.paste(color_image, (0, 0))\n",
    "    binimg = np.array(result)\n",
    "    h_image_binaries.append(binimg)\n",
    "    h_image_colors.append(result)\n",
    "\n",
    "r_image_binaries = []\n",
    "r_image_colors = []\n",
    "for image in RGB_romance_posters:\n",
    "    color_image = Image.fromarray(image)\n",
    "    width, height = color_image.size\n",
    "    new_width = height \n",
    "    result = Image.new(color_image.mode, (new_width, height), (0, 0, 255))\n",
    "    result.paste(color_image, (0, 0))\n",
    "    binimg = np.array(result)\n",
    "    r_image_binaries.append(binimg)\n",
    "    r_image_colors.append(result)\n",
    "\n",
    "a_image_binaries = []\n",
    "a_image_colors = []\n",
    "for image in RGB_action_posters:\n",
    "    color_image = Image.fromarray(image)\n",
    "    width, height = color_image.size\n",
    "    new_width = height \n",
    "    result = Image.new(color_image.mode, (new_width, height), (0, 0, 255))\n",
    "    result.paste(color_image, (0, 0))\n",
    "    binimg = np.array(result)\n",
    "    a_image_binaries.append(binimg)\n",
    "    a_image_colors.append(result)\n",
    "    "
   ]
  },
  {
   "cell_type": "code",
   "execution_count": 313,
   "metadata": {},
   "outputs": [
    {
     "data": {
      "image/png": "[encoded data removed]",
      "text/plain": [
       "<PIL.Image.Image image mode=RGB size=187x187 at 0x7FA926606490>"
      ]
     },
     "execution_count": 313,
     "metadata": {},
     "output_type": "execute_result"
    }
   ],
   "source": [
    "r_image_colors[70]"
   ]
  },
  {
   "cell_type": "markdown",
   "metadata": {},
   "source": [
    "## make dataframes"
   ]
  },
  {
   "cell_type": "code",
   "execution_count": 380,
   "metadata": {},
   "outputs": [],
   "source": [
    "## initializing dfs with poster images\n",
    "\n",
    "thrill = pd.DataFrame(t_image_colors, columns = [\"poster\"])\n",
    "com = pd.DataFrame(c_image_colors, columns = [\"poster\"])\n",
    "fam = pd.DataFrame(f_image_colors, columns = [\"poster\"])\n",
    "horr = pd.DataFrame(h_image_colors, columns = [\"poster\"])\n",
    "rom = pd.DataFrame(r_image_colors, columns = [\"poster\"])\n",
    "act = pd.DataFrame(a_image_colors, columns = [\"poster\"])"
   ]
  },
  {
   "cell_type": "code",
   "execution_count": 381,
   "metadata": {},
   "outputs": [],
   "source": [
    "## adding genre to dfs\n",
    "\n",
    "thrill['genre'] = 'thriller'\n",
    "com['genre']  = 'comedy'\n",
    "fam['genre']  = 'family'\n",
    "horr['genre']  = 'horror'\n",
    "rom['genre']  = 'romance'\n",
    "act['genre']  = 'action'\n"
   ]
  },
  {
   "cell_type": "code",
   "execution_count": 382,
   "metadata": {},
   "outputs": [],
   "source": [
    "## making training and testing sets separately\n",
    "## to ensure model is trained with good representation of each genre\n",
    "\n",
    "train_thrill = thrill.loc[25:]\n",
    "test_thrill = thrill.loc[0:24]\n",
    "\n",
    "train_com = com.loc[25:]\n",
    "test_com = com.loc[0:24]\n",
    "\n",
    "train_fam = fam.loc[25:]\n",
    "test_fam = fam.loc[0:24]\n",
    "\n",
    "train_horr = horr.loc[25:]\n",
    "test_horr = horr.loc[0:24]\n",
    "\n",
    "train_rom = rom.loc[25:]\n",
    "test_rom = rom.loc[0:24]\n",
    "\n",
    "train_act = act.loc[25:]\n",
    "test_act = act.loc[0:24]"
   ]
  },
  {
   "cell_type": "code",
   "execution_count": 383,
   "metadata": {},
   "outputs": [],
   "source": [
    "trainFrames = [train_thrill, train_com, train_fam, train_horr, train_rom, train_act]\n",
    "testFrames = [test_thrill, test_com, test_fam, test_horr, test_rom, test_act]\n",
    "\n",
    "totalFrames = [train_thrill, train_com, train_fam, train_horr, train_rom, train_act,\n",
    "test_thrill, test_com, test_fam, test_horr, test_rom, test_act]\n",
    "\n",
    "train = pd.concat(trainFrames, ignore_index=True)\n",
    "test = pd.concat(testFrames, ignore_index=True)\n",
    "total = pd.concat(totalFrames, ignore_index=True)"
   ]
  },
  {
   "cell_type": "code",
   "execution_count": 384,
   "metadata": {},
   "outputs": [],
   "source": [
    "X = total.iloc[:,0].values\n",
    "y = total.iloc[:,1].values\n",
    "\n",
    "y1 = encoder.fit_transform(y)\n",
    "Y = pd.get_dummies(y1).values\n",
    "\n",
    "arrList = []\n",
    "for image in X:\n",
    "    new = np.asarray(image)\n",
    "    arrList.append(new)\n",
    "\n",
    "finalX = np.asarray(arrList)\n",
    "\n",
    "X_train, X_test, y_train, y_test = train_test_split(finalX, Y, test_size=0.2, random_state=0)"
   ]
  },
  {
   "cell_type": "markdown",
   "metadata": {},
   "source": [
    "## making cnn"
   ]
  },
  {
   "cell_type": "markdown",
   "metadata": {},
   "source": [
    "###  all genres at once"
   ]
  },
  {
   "cell_type": "code",
   "execution_count": 385,
   "metadata": {},
   "outputs": [
    {
     "data": {
      "text/plain": [
       "<keras.engine.sequential.Sequential at 0x7fa86211c130>"
      ]
     },
     "execution_count": 385,
     "metadata": {},
     "output_type": "execute_result"
    }
   ],
   "source": [
    "model = tf.keras.models.Sequential([\n",
    "    tf.keras.layers.Conv2D(16,(3,3),activation = \"relu\" , input_shape = (187,187,3)) ,\n",
    "    tf.keras.layers.MaxPooling2D(2,2),\n",
    "    tf.keras.layers.Conv2D(32,(3,3),activation = \"relu\") ,  \n",
    "    tf.keras.layers.MaxPooling2D(2,2),\n",
    "    tf.keras.layers.Conv2D(64,(3,3),activation = \"relu\") ,  \n",
    "    tf.keras.layers.MaxPooling2D(2,2),\n",
    "    tf.keras.layers.Conv2D(128,(3,3),activation = \"relu\"),  \n",
    "    tf.keras.layers.MaxPooling2D(2,2),\n",
    "    tf.keras.layers.Flatten(), \n",
    "    tf.keras.layers.Dense(550,activation=\"relu\"),\n",
    "    tf.keras.layers.Dropout(0.1,seed = 2019),\n",
    "    tf.keras.layers.Dense(400,activation =\"relu\"),\n",
    "    tf.keras.layers.Dropout(0.3,seed = 2019),\n",
    "    tf.keras.layers.Dense(300,activation=\"relu\"),\n",
    "    tf.keras.layers.Dropout(0.4,seed = 2019),\n",
    "    tf.keras.layers.Dense(200,activation =\"relu\"),\n",
    "    tf.keras.layers.Dropout(0.2,seed = 2019),\n",
    "    tf.keras.layers.Dense(6,activation = \"softmax\")])\n",
    "\n",
    "model"
   ]
  },
  {
   "cell_type": "code",
   "execution_count": 335,
   "metadata": {},
   "outputs": [
    {
     "data": {
      "text/plain": [
       "<keras.engine.sequential.Sequential at 0x7fa8f0819070>"
      ]
     },
     "execution_count": 335,
     "metadata": {},
     "output_type": "execute_result"
    }
   ],
   "source": [
    "model = tf.keras.models.Sequential([\n",
    "    tf.keras.layers.Conv2D(16,(3,3),activation = \"relu\" , input_shape = (187,187,3)) ,\n",
    "    tf.keras.layers.MaxPooling2D(2,2),\n",
    "    tf.keras.layers.Conv2D(32,(3,3),activation = \"relu\") ,  \n",
    "    tf.keras.layers.MaxPooling2D(2,2),\n",
    "    tf.keras.layers.Flatten(),\n",
    "    tf.keras.layers.Dense(300,activation=\"relu\"),\n",
    "    tf.keras.layers.Dropout(0.4,seed = 2019),\n",
    "    tf.keras.layers.Dense(200,activation =\"relu\"),\n",
    "    tf.keras.layers.Dropout(0.2,seed = 2019),\n",
    "    tf.keras.layers.Dense(6,activation = \"softmax\")])\n",
    "\n",
    "model"
   ]
  },
  {
   "cell_type": "code",
   "execution_count": 329,
   "metadata": {},
   "outputs": [
    {
     "data": {
      "text/plain": [
       "<keras.engine.sequential.Sequential at 0x7fa9001d8d30>"
      ]
     },
     "execution_count": 329,
     "metadata": {},
     "output_type": "execute_result"
    }
   ],
   "source": [
    "model = tf.keras.Sequential([\n",
    "    tf.keras.layers.Conv2D(16,(3,3),activation = \"relu\" , input_shape = (187,187,3)) ,\n",
    "    tf.keras.layers.MaxPooling2D(2,2),\n",
    "    tf.keras.layers.Flatten(),\n",
    "    tf.keras.layers.Dense(200, activation='relu'),\n",
    "    tf.keras.layers.Dense(50, activation='relu'),\n",
    "    tf.keras.layers.Dense(6, activation='softmax')\n",
    "  ])\n",
    "model"
   ]
  },
  {
   "cell_type": "code",
   "execution_count": 386,
   "metadata": {},
   "outputs": [],
   "source": [
    "model.compile(optimizer='rmsprop', loss='categorical_crossentropy', metrics=['acc'])"
   ]
  },
  {
   "cell_type": "code",
   "execution_count": 387,
   "metadata": {},
   "outputs": [
    {
     "name": "stdout",
     "output_type": "stream",
     "text": [
      "Epoch 1/20\n",
      "40/40 [==============================] - 24s 542ms/step - loss: 31.3331 - acc: 0.1900\n",
      "Epoch 2/20\n",
      "40/40 [==============================] - 28s 692ms/step - loss: 1.8921 - acc: 0.2225\n",
      "Epoch 3/20\n",
      "40/40 [==============================] - 22s 538ms/step - loss: 2.0871 - acc: 0.1925\n",
      "Epoch 4/20\n",
      "40/40 [==============================] - 25s 628ms/step - loss: 1.9799 - acc: 0.2100\n",
      "Epoch 5/20\n",
      "40/40 [==============================] - 19s 482ms/step - loss: 1.9098 - acc: 0.2300\n",
      "Epoch 6/20\n",
      "40/40 [==============================] - 19s 469ms/step - loss: 1.7707 - acc: 0.2675\n",
      "Epoch 7/20\n",
      "40/40 [==============================] - 18s 442ms/step - loss: 1.7723 - acc: 0.2900\n",
      "Epoch 8/20\n",
      "40/40 [==============================] - 17s 432ms/step - loss: 1.7165 - acc: 0.2925\n",
      "Epoch 9/20\n",
      "40/40 [==============================] - 20s 504ms/step - loss: 1.5774 - acc: 0.3750\n",
      "Epoch 10/20\n",
      "40/40 [==============================] - 24s 595ms/step - loss: 1.5143 - acc: 0.4125\n",
      "Epoch 11/20\n",
      "40/40 [==============================] - 19s 472ms/step - loss: 1.3197 - acc: 0.4925\n",
      "Epoch 12/20\n",
      "40/40 [==============================] - 20s 500ms/step - loss: 1.1268 - acc: 0.5775\n",
      "Epoch 13/20\n",
      "40/40 [==============================] - 21s 518ms/step - loss: 0.9288 - acc: 0.6825\n",
      "Epoch 14/20\n",
      "40/40 [==============================] - 19s 481ms/step - loss: 0.6814 - acc: 0.7475\n",
      "Epoch 15/20\n",
      "40/40 [==============================] - 18s 460ms/step - loss: 0.5843 - acc: 0.8025\n",
      "Epoch 16/20\n",
      "40/40 [==============================] - 17s 414ms/step - loss: 0.4323 - acc: 0.8925\n",
      "Epoch 17/20\n",
      "40/40 [==============================] - 15s 376ms/step - loss: 0.5116 - acc: 0.8675\n",
      "Epoch 18/20\n",
      "40/40 [==============================] - 18s 445ms/step - loss: 0.3002 - acc: 0.9275\n",
      "Epoch 19/20\n",
      "40/40 [==============================] - 17s 430ms/step - loss: 0.1020 - acc: 0.9725\n",
      "Epoch 20/20\n",
      "40/40 [==============================] - 16s 405ms/step - loss: 0.6940 - acc: 0.8750\n"
     ]
    },
    {
     "data": {
      "text/plain": [
       "<keras.callbacks.History at 0x7fa862146eb0>"
      ]
     },
     "execution_count": 387,
     "metadata": {},
     "output_type": "execute_result"
    }
   ],
   "source": [
    "model.fit(X_train, y_train, batch_size=10, epochs=20)"
   ]
  },
  {
   "cell_type": "code",
   "execution_count": 388,
   "metadata": {},
   "outputs": [
    {
     "name": "stdout",
     "output_type": "stream",
     "text": [
      "Test loss: 9.168498992919922\n",
      "Test accuracy: 0.1899999976158142\n"
     ]
    }
   ],
   "source": [
    "## third try\n",
    "\n",
    "loss, accuracy = model.evaluate(X_test, y_test, verbose=0)\n",
    "print('Test loss:', loss)\n",
    "print('Test accuracy:', accuracy)"
   ]
  },
  {
   "cell_type": "code",
   "execution_count": 339,
   "metadata": {},
   "outputs": [
    {
     "name": "stdout",
     "output_type": "stream",
     "text": [
      "4/4 [==============================] - 1s 262ms/step\n"
     ]
    }
   ],
   "source": [
    "y_pred = model.predict(X_test)\n",
    "actual = np.argmax(y_test,axis=1)\n",
    "predicted = np.argmax(y_pred,axis=1)"
   ]
  },
  {
   "cell_type": "code",
   "execution_count": 340,
   "metadata": {},
   "outputs": [
    {
     "data": {
      "text/plain": [
       "Text(69.0, 0.5, 'Actual')"
      ]
     },
     "execution_count": 340,
     "metadata": {},
     "output_type": "execute_result"
    },
    {
     "data": {
      "image/png": "[encoded data removed]",
      "text/plain": [
       "<Figure size 720x504 with 2 Axes>"
      ]
     },
     "metadata": {
      "needs_background": "light"
     },
     "output_type": "display_data"
    }
   ],
   "source": [
    "confMatrix = confusion_matrix(actual, predicted)\n",
    "\n",
    "df_cm = pd.DataFrame(confMatrix, index = ['thriller', 'comedy', 'family', 'horror', 'romance', 'action'],\n",
    "                  columns = ['thriller', 'comedy', 'family', 'horror', 'romance', 'action'])\n",
    "plt.figure(figsize = (10,7))\n",
    "heat = sn.heatmap(df_cm, annot=True)\n",
    "heat.set_xlabel('Predicted', fontsize=15)\n",
    "heat.set_ylabel('Actual', fontsize=15)"
   ]
  },
  {
   "cell_type": "markdown",
   "metadata": {},
   "source": [
    "### comedy v horror"
   ]
  },
  {
   "cell_type": "code",
   "execution_count": 354,
   "metadata": {},
   "outputs": [],
   "source": [
    "HCFrames = [train_com, train_horr, test_com, test_horr]\n",
    "\n",
    "HCtotal = pd.concat(HCFrames, ignore_index=True)"
   ]
  },
  {
   "cell_type": "code",
   "execution_count": 355,
   "metadata": {},
   "outputs": [],
   "source": [
    "X = HCtotal.iloc[:,0].values\n",
    "y = HCtotal.iloc[:,1].values\n",
    "\n",
    "y1 = encoder.fit_transform(y)\n",
    "Y = pd.get_dummies(y1).values\n",
    "\n",
    "arrList = []\n",
    "for image in X:\n",
    "    new = np.asarray(image)\n",
    "    arrList.append(new)\n",
    "\n",
    "finalX = np.asarray(arrList)\n",
    "\n",
    "X_train, X_test, y_train, y_test = train_test_split(finalX, Y, test_size=0.2, random_state=0)"
   ]
  },
  {
   "cell_type": "code",
   "execution_count": 356,
   "metadata": {},
   "outputs": [
    {
     "data": {
      "text/plain": [
       "<keras.engine.sequential.Sequential at 0x7fa9aa6cceb0>"
      ]
     },
     "execution_count": 356,
     "metadata": {},
     "output_type": "execute_result"
    }
   ],
   "source": [
    "model = tf.keras.models.Sequential([\n",
    "    tf.keras.layers.Conv2D(16,(3,3),activation = \"relu\" , input_shape = (187,187,3)) ,\n",
    "    tf.keras.layers.MaxPooling2D(2,2),\n",
    "    tf.keras.layers.Conv2D(32,(3,3),activation = \"relu\") ,  \n",
    "    tf.keras.layers.MaxPooling2D(2,2),\n",
    "    tf.keras.layers.Flatten(),\n",
    "    tf.keras.layers.Dense(300,activation=\"relu\"),\n",
    "    tf.keras.layers.Dropout(0.4,seed = 2019),\n",
    "    tf.keras.layers.Dense(200,activation =\"relu\"),\n",
    "    tf.keras.layers.Dropout(0.2,seed = 2019),\n",
    "    tf.keras.layers.Dense(2,activation = \"softmax\")])\n",
    "\n",
    "model"
   ]
  },
  {
   "cell_type": "code",
   "execution_count": 359,
   "metadata": {},
   "outputs": [
    {
     "name": "stdout",
     "output_type": "stream",
     "text": [
      "Epoch 1/15\n",
      "14/14 [==============================] - 9s 513ms/step - loss: 0.4356 - acc: 0.9571\n",
      "Epoch 2/15\n",
      "14/14 [==============================] - 6s 385ms/step - loss: 0.0058 - acc: 1.0000\n",
      "Epoch 3/15\n",
      "14/14 [==============================] - 5s 374ms/step - loss: 0.0067 - acc: 1.0000\n",
      "Epoch 4/15\n",
      "14/14 [==============================] - 6s 411ms/step - loss: 0.0061 - acc: 1.0000\n",
      "Epoch 5/15\n",
      "14/14 [==============================] - 6s 419ms/step - loss: 0.2753 - acc: 0.9786\n",
      "Epoch 6/15\n",
      "14/14 [==============================] - 6s 408ms/step - loss: 0.0068 - acc: 1.0000\n",
      "Epoch 7/15\n",
      "14/14 [==============================] - 6s 408ms/step - loss: 0.0412 - acc: 0.9929\n",
      "Epoch 8/15\n",
      "14/14 [==============================] - 6s 411ms/step - loss: 1.8917 - acc: 0.9429\n",
      "Epoch 9/15\n",
      "14/14 [==============================] - 6s 418ms/step - loss: 1.0360e-05 - acc: 1.0000\n",
      "Epoch 10/15\n",
      "14/14 [==============================] - 6s 431ms/step - loss: 0.0198 - acc: 1.0000\n",
      "Epoch 11/15\n",
      "14/14 [==============================] - 6s 420ms/step - loss: 0.0411 - acc: 1.0000\n",
      "Epoch 12/15\n",
      "14/14 [==============================] - 6s 430ms/step - loss: 0.8340 - acc: 0.9857\n",
      "Epoch 13/15\n",
      "14/14 [==============================] - 6s 413ms/step - loss: 1.6970 - acc: 0.9714\n",
      "Epoch 14/15\n",
      "14/14 [==============================] - 6s 429ms/step - loss: 0.0011 - acc: 1.0000\n",
      "Epoch 15/15\n",
      "14/14 [==============================] - 6s 419ms/step - loss: 0.5384 - acc: 0.9929\n"
     ]
    },
    {
     "data": {
      "text/plain": [
       "<keras.callbacks.History at 0x7fa8bfff2b80>"
      ]
     },
     "execution_count": 359,
     "metadata": {},
     "output_type": "execute_result"
    }
   ],
   "source": [
    "model.compile(optimizer='rmsprop', loss='binary_crossentropy', metrics=['acc'])\n",
    "model.fit(X_train, y_train, batch_size=10, epochs=15)"
   ]
  },
  {
   "cell_type": "code",
   "execution_count": 360,
   "metadata": {},
   "outputs": [
    {
     "name": "stdout",
     "output_type": "stream",
     "text": [
      "Test loss: 15.7476806640625\n",
      "Test accuracy: 0.5\n",
      "2/2 [==============================] - 0s 48ms/step\n"
     ]
    },
    {
     "data": {
      "text/plain": [
       "Text(69.0, 0.5, 'Actual')"
      ]
     },
     "execution_count": 360,
     "metadata": {},
     "output_type": "execute_result"
    },
    {
     "data": {
      "image/png": "[encoded data removed]",
      "text/plain": [
       "<Figure size 720x504 with 2 Axes>"
      ]
     },
     "metadata": {
      "needs_background": "light"
     },
     "output_type": "display_data"
    }
   ],
   "source": [
    "loss, accuracy = model.evaluate(X_test, y_test, verbose=0)\n",
    "print('Test loss:', loss)\n",
    "print('Test accuracy:', accuracy)\n",
    "\n",
    "y_pred = model.predict(X_test)\n",
    "actual = np.argmax(y_test,axis=1)\n",
    "predicted = np.argmax(y_pred,axis=1)\n",
    "\n",
    "confMatrix = confusion_matrix(actual, predicted)\n",
    "\n",
    "df_cm = pd.DataFrame(confMatrix, index = ['comedy', 'horror'],\n",
    "                  columns = ['comedy', 'horror'])\n",
    "plt.figure(figsize = (10,7))\n",
    "heat = sn.heatmap(df_cm, annot=True)\n",
    "heat.set_xlabel('Predicted', fontsize=15)\n",
    "heat.set_ylabel('Actual', fontsize=15)"
   ]
  },
  {
   "cell_type": "code",
   "execution_count": 362,
   "metadata": {},
   "outputs": [
    {
     "name": "stdout",
     "output_type": "stream",
     "text": [
      "[0 0 1 0 1 1 0 1 0 1 0 0 0 1 1 1 0 0 1 0 1 0 0 1 1 1 1 1 1 1 0 0 0 0 0 0]\n",
      "[1 1 0 0 0 1 0 0 1 0 1 1 1 1 1 0 1 1 1 1 1 1 0 1 1 1 1 1 1 1 1 0 1 0 0 1]\n"
     ]
    }
   ],
   "source": [
    "print(actual)\n",
    "print(predicted)"
   ]
  },
  {
   "cell_type": "code",
   "execution_count": 361,
   "metadata": {},
   "outputs": [
    {
     "data": {
      "text/plain": [
       "[<matplotlib.lines.Line2D at 0x7fa8b01bee20>]"
      ]
     },
     "execution_count": 361,
     "metadata": {},
     "output_type": "execute_result"
    },
    {
     "data": {
      "image/png": "[encoded data removed]",
      "text/plain": [
       "<Figure size 432x288 with 2 Axes>"
      ]
     },
     "metadata": {
      "needs_background": "light"
     },
     "output_type": "display_data"
    }
   ],
   "source": [
    "import matplotlib.pyplot as plt\n",
    "from matplotlib.pyplot import step, show\n",
    "\n",
    "plt.subplot(2, 1, 1)\n",
    "plt.title(\"actual\")\n",
    "xaxis = np.arange(0, len(y_test))\n",
    "yaxis = actual\n",
    "step(xaxis, yaxis)\n",
    "\n",
    "plt.subplot(2, 1, 2)\n",
    "plt.title('predictions')\n",
    "xaxis = np.arange(0, len(y_test))\n",
    "yaxis = predicted\n",
    "step(xaxis, yaxis)"
   ]
  },
  {
   "cell_type": "markdown",
   "metadata": {},
   "source": [
    "### family v horror"
   ]
  },
  {
   "cell_type": "code",
   "execution_count": 363,
   "metadata": {},
   "outputs": [],
   "source": [
    "FCFrames = [train_fam, train_horr, test_fam, test_horr]\n",
    "\n",
    "FCtotal = pd.concat(FCFrames, ignore_index=True)\n",
    "\n",
    "X = FCtotal.iloc[:,0].values\n",
    "y = FCtotal.iloc[:,1].values\n",
    "\n",
    "y1 = encoder.fit_transform(y)\n",
    "Y = pd.get_dummies(y1).values\n",
    "\n",
    "arrList = []\n",
    "for image in X:\n",
    "    new = np.asarray(image)\n",
    "    arrList.append(new)\n",
    "\n",
    "finalX = np.asarray(arrList)\n",
    "\n",
    "X_train, X_test, y_train, y_test = train_test_split(finalX, Y, test_size=0.2, random_state=0)"
   ]
  },
  {
   "cell_type": "code",
   "execution_count": 364,
   "metadata": {},
   "outputs": [
    {
     "name": "stdout",
     "output_type": "stream",
     "text": [
      "Epoch 1/15\n",
      "15/15 [==============================] - 12s 570ms/step - loss: 328.2954 - acc: 0.5878\n",
      "Epoch 2/15\n",
      "15/15 [==============================] - 9s 597ms/step - loss: 5.3530 - acc: 0.6824\n",
      "Epoch 3/15\n",
      "15/15 [==============================] - 9s 556ms/step - loss: 1.3688 - acc: 0.8176\n",
      "Epoch 4/15\n",
      "15/15 [==============================] - 8s 504ms/step - loss: 0.7007 - acc: 0.8919\n",
      "Epoch 5/15\n",
      "15/15 [==============================] - 9s 597ms/step - loss: 0.1898 - acc: 0.9932\n",
      "Epoch 6/15\n",
      "15/15 [==============================] - 9s 611ms/step - loss: 0.2290 - acc: 0.9797\n",
      "Epoch 7/15\n",
      "15/15 [==============================] - 8s 559ms/step - loss: 0.1525 - acc: 0.9730\n",
      "Epoch 8/15\n",
      "15/15 [==============================] - 8s 500ms/step - loss: 0.2575 - acc: 0.9730\n",
      "Epoch 9/15\n",
      "15/15 [==============================] - 7s 489ms/step - loss: 0.0822 - acc: 0.9932\n",
      "Epoch 10/15\n",
      "15/15 [==============================] - 8s 536ms/step - loss: 0.3093 - acc: 0.9797\n",
      "Epoch 11/15\n",
      "15/15 [==============================] - 9s 632ms/step - loss: 0.0092 - acc: 1.0000\n",
      "Epoch 12/15\n",
      "15/15 [==============================] - 9s 560ms/step - loss: 0.0031 - acc: 1.0000\n",
      "Epoch 13/15\n",
      "15/15 [==============================] - 10s 655ms/step - loss: 0.0462 - acc: 1.0000\n",
      "Epoch 14/15\n",
      "15/15 [==============================] - 10s 641ms/step - loss: 0.4591 - acc: 0.9730\n",
      "Epoch 15/15\n",
      "15/15 [==============================] - 10s 661ms/step - loss: 0.0382 - acc: 1.0000\n"
     ]
    },
    {
     "data": {
      "text/plain": [
       "<keras.callbacks.History at 0x7fa8b178aee0>"
      ]
     },
     "execution_count": 364,
     "metadata": {},
     "output_type": "execute_result"
    }
   ],
   "source": [
    "model = tf.keras.models.Sequential([\n",
    "    tf.keras.layers.Conv2D(16,(3,3),activation = \"relu\" , input_shape = (187,187,3)) ,\n",
    "    tf.keras.layers.MaxPooling2D(2,2),\n",
    "    tf.keras.layers.Conv2D(32,(3,3),activation = \"relu\") ,  \n",
    "    tf.keras.layers.MaxPooling2D(2,2),\n",
    "    tf.keras.layers.Flatten(),\n",
    "    tf.keras.layers.Dense(300,activation=\"relu\"),\n",
    "    tf.keras.layers.Dropout(0.4,seed = 2019),\n",
    "    tf.keras.layers.Dense(200,activation =\"relu\"),\n",
    "    tf.keras.layers.Dropout(0.2,seed = 2019),\n",
    "    tf.keras.layers.Dense(2,activation = \"softmax\")])\n",
    "\n",
    "model\n",
    "\n",
    "model.compile(optimizer='rmsprop', loss='binary_crossentropy', metrics=['acc'])\n",
    "model.fit(X_train, y_train, batch_size=10, epochs=15)"
   ]
  },
  {
   "cell_type": "code",
   "execution_count": 365,
   "metadata": {},
   "outputs": [
    {
     "name": "stdout",
     "output_type": "stream",
     "text": [
      "Test loss: 5.125215530395508\n",
      "Test accuracy: 0.6578947305679321\n",
      "2/2 [==============================] - 0s 79ms/step\n"
     ]
    },
    {
     "data": {
      "text/plain": [
       "Text(69.0, 0.5, 'Actual')"
      ]
     },
     "execution_count": 365,
     "metadata": {},
     "output_type": "execute_result"
    },
    {
     "data": {
      "image/png": "[encoded data removed]",
      "text/plain": [
       "<Figure size 720x504 with 2 Axes>"
      ]
     },
     "metadata": {
      "needs_background": "light"
     },
     "output_type": "display_data"
    }
   ],
   "source": [
    "loss, accuracy = model.evaluate(X_test, y_test, verbose=0)\n",
    "print('Test loss:', loss)\n",
    "print('Test accuracy:', accuracy)\n",
    "\n",
    "y_pred = model.predict(X_test)\n",
    "actual = np.argmax(y_test,axis=1)\n",
    "predicted = np.argmax(y_pred,axis=1)\n",
    "\n",
    "confMatrix = confusion_matrix(actual, predicted)\n",
    "\n",
    "df_cm = pd.DataFrame(confMatrix, index = ['family', 'horror'],\n",
    "                  columns = ['family', 'horror'])\n",
    "plt.figure(figsize = (10,7))\n",
    "heat = sn.heatmap(df_cm, annot=True)\n",
    "heat.set_xlabel('Predicted', fontsize=15)\n",
    "heat.set_ylabel('Actual', fontsize=15)"
   ]
  },
  {
   "cell_type": "markdown",
   "metadata": {},
   "source": [
    "### thriller v action v horror"
   ]
  },
  {
   "cell_type": "code",
   "execution_count": 367,
   "metadata": {},
   "outputs": [],
   "source": [
    "TAHFrames = [train_thrill, train_act, train_horr, test_thrill, test_act, test_horr]\n",
    "\n",
    "TAHtotal = pd.concat(TAHFrames, ignore_index=True)\n",
    "\n",
    "X = TAHtotal.iloc[:,0].values\n",
    "y = TAHtotal.iloc[:,1].values\n",
    "\n",
    "y1 = encoder.fit_transform(y)\n",
    "Y = pd.get_dummies(y1).values\n",
    "\n",
    "arrList = []\n",
    "for image in X:\n",
    "    new = np.asarray(image)\n",
    "    arrList.append(new)\n",
    "\n",
    "finalX = np.asarray(arrList)\n",
    "\n",
    "X_train, X_test, y_train, y_test = train_test_split(finalX, Y, test_size=0.2, random_state=0)"
   ]
  },
  {
   "cell_type": "code",
   "execution_count": 368,
   "metadata": {},
   "outputs": [
    {
     "name": "stdout",
     "output_type": "stream",
     "text": [
      "Epoch 1/15\n",
      "19/19 [==============================] - 12s 450ms/step - loss: 180.0408 - acc: 0.3529\n",
      "Epoch 2/15\n",
      "19/19 [==============================] - 7s 373ms/step - loss: 1.5990 - acc: 0.4813\n",
      "Epoch 3/15\n",
      "19/19 [==============================] - 8s 411ms/step - loss: 0.7298 - acc: 0.6898\n",
      "Epoch 4/15\n",
      "19/19 [==============================] - 8s 406ms/step - loss: 0.4519 - acc: 0.8396\n",
      "Epoch 5/15\n",
      "19/19 [==============================] - 7s 391ms/step - loss: 0.2779 - acc: 0.8877\n",
      "Epoch 6/15\n",
      "19/19 [==============================] - 8s 399ms/step - loss: 0.2160 - acc: 0.9572\n",
      "Epoch 7/15\n",
      "19/19 [==============================] - 8s 406ms/step - loss: 0.8579 - acc: 0.9412\n",
      "Epoch 8/15\n",
      "19/19 [==============================] - 8s 423ms/step - loss: 0.1457 - acc: 0.9679\n",
      "Epoch 9/15\n",
      "19/19 [==============================] - 8s 398ms/step - loss: 0.1192 - acc: 0.9786\n",
      "Epoch 10/15\n",
      "19/19 [==============================] - 8s 412ms/step - loss: 0.0851 - acc: 0.9786\n",
      "Epoch 11/15\n",
      "19/19 [==============================] - 8s 406ms/step - loss: 0.0620 - acc: 0.9840\n",
      "Epoch 12/15\n",
      "19/19 [==============================] - 8s 418ms/step - loss: 0.0791 - acc: 0.9893\n",
      "Epoch 13/15\n",
      "19/19 [==============================] - 8s 410ms/step - loss: 0.0418 - acc: 0.9947\n",
      "Epoch 14/15\n",
      "19/19 [==============================] - 8s 424ms/step - loss: 0.0141 - acc: 1.0000\n",
      "Epoch 15/15\n",
      "19/19 [==============================] - 8s 417ms/step - loss: 0.4063 - acc: 0.9572\n"
     ]
    },
    {
     "data": {
      "text/plain": [
       "<keras.callbacks.History at 0x7fa890aa4130>"
      ]
     },
     "execution_count": 368,
     "metadata": {},
     "output_type": "execute_result"
    }
   ],
   "source": [
    "model = tf.keras.models.Sequential([\n",
    "    tf.keras.layers.Conv2D(16,(3,3),activation = \"relu\" , input_shape = (187,187,3)) ,\n",
    "    tf.keras.layers.MaxPooling2D(2,2),\n",
    "    tf.keras.layers.Conv2D(32,(3,3),activation = \"relu\") ,  \n",
    "    tf.keras.layers.MaxPooling2D(2,2),\n",
    "    tf.keras.layers.Flatten(),\n",
    "    tf.keras.layers.Dense(300,activation=\"relu\"),\n",
    "    tf.keras.layers.Dropout(0.4,seed = 2019),\n",
    "    tf.keras.layers.Dense(200,activation =\"relu\"),\n",
    "    tf.keras.layers.Dropout(0.2,seed = 2019),\n",
    "    tf.keras.layers.Dense(3,activation = \"softmax\")])\n",
    "\n",
    "model\n",
    "\n",
    "model.compile(optimizer='rmsprop', loss='binary_crossentropy', metrics=['acc'])\n",
    "model.fit(X_train, y_train, batch_size=10, epochs=15)"
   ]
  },
  {
   "cell_type": "code",
   "execution_count": 369,
   "metadata": {},
   "outputs": [
    {
     "name": "stdout",
     "output_type": "stream",
     "text": [
      "WARNING:tensorflow:5 out of the last 15 calls to <function Model.make_test_function.<locals>.test_function at 0x7fa93141fdc0> triggered tf.function retracing. Tracing is expensive and the excessive number of tracings could be due to (1) creating @tf.function repeatedly in a loop, (2) passing tensors with different shapes, (3) passing Python objects instead of tensors. For (1), please define your @tf.function outside of the loop. For (2), @tf.function has reduce_retracing=True option that can avoid unnecessary retracing. For (3), please refer to https://www.tensorflow.org/guide/function#controlling_retracing and https://www.tensorflow.org/api_docs/python/tf/function for  more details.\n",
      "Test loss: 3.477459192276001\n",
      "Test accuracy: 0.3404255211353302\n",
      "WARNING:tensorflow:5 out of the last 15 calls to <function Model.make_predict_function.<locals>.predict_function at 0x7fa8947faca0> triggered tf.function retracing. Tracing is expensive and the excessive number of tracings could be due to (1) creating @tf.function repeatedly in a loop, (2) passing tensors with different shapes, (3) passing Python objects instead of tensors. For (1), please define your @tf.function outside of the loop. For (2), @tf.function has reduce_retracing=True option that can avoid unnecessary retracing. For (3), please refer to https://www.tensorflow.org/guide/function#controlling_retracing and https://www.tensorflow.org/api_docs/python/tf/function for  more details.\n",
      "2/2 [==============================] - 1s 198ms/step\n"
     ]
    },
    {
     "data": {
      "text/plain": [
       "Text(69.0, 0.5, 'Actual')"
      ]
     },
     "execution_count": 369,
     "metadata": {},
     "output_type": "execute_result"
    },
    {
     "data": {
      "image/png": "[encoded data removed]",
      "text/plain": [
       "<Figure size 720x504 with 2 Axes>"
      ]
     },
     "metadata": {
      "needs_background": "light"
     },
     "output_type": "display_data"
    }
   ],
   "source": [
    "loss, accuracy = model.evaluate(X_test, y_test, verbose=0)\n",
    "print('Test loss:', loss)\n",
    "print('Test accuracy:', accuracy)\n",
    "\n",
    "y_pred = model.predict(X_test)\n",
    "actual = np.argmax(y_test,axis=1)\n",
    "predicted = np.argmax(y_pred,axis=1)\n",
    "\n",
    "confMatrix = confusion_matrix(actual, predicted)\n",
    "\n",
    "df_cm = pd.DataFrame(confMatrix, index = ['thriller', 'action', 'horror'],\n",
    "                  columns = ['thriller', 'action', 'horror'])\n",
    "plt.figure(figsize = (10,7))\n",
    "heat = sn.heatmap(df_cm, annot=True)\n",
    "heat.set_xlabel('Predicted', fontsize=15)\n",
    "heat.set_ylabel('Actual', fontsize=15)"
   ]
  },
  {
   "cell_type": "markdown",
   "metadata": {},
   "source": [
    "### romance v action"
   ]
  },
  {
   "cell_type": "code",
   "execution_count": 370,
   "metadata": {},
   "outputs": [],
   "source": [
    "RAFrames = [train_rom, train_act, test_rom, test_act]\n",
    "\n",
    "RAtotal = pd.concat(RAFrames, ignore_index=True)\n",
    "\n",
    "X = RAtotal.iloc[:,0].values\n",
    "y = RAtotal.iloc[:,1].values\n",
    "\n",
    "y1 = encoder.fit_transform(y)\n",
    "Y = pd.get_dummies(y1).values\n",
    "\n",
    "arrList = []\n",
    "for image in X:\n",
    "    new = np.asarray(image)\n",
    "    arrList.append(new)\n",
    "\n",
    "finalX = np.asarray(arrList)\n",
    "\n",
    "X_train, X_test, y_train, y_test = train_test_split(finalX, Y, test_size=0.2, random_state=0)"
   ]
  },
  {
   "cell_type": "code",
   "execution_count": 371,
   "metadata": {},
   "outputs": [
    {
     "name": "stdout",
     "output_type": "stream",
     "text": [
      "Epoch 1/15\n",
      "12/12 [==============================] - 7s 377ms/step - loss: 222.6120 - acc: 0.5268\n",
      "Epoch 2/15\n",
      "12/12 [==============================] - 5s 373ms/step - loss: 14.3693 - acc: 0.7589\n",
      "Epoch 3/15\n",
      "12/12 [==============================] - 4s 363ms/step - loss: 3.8975 - acc: 0.8571\n",
      "Epoch 4/15\n",
      "12/12 [==============================] - 4s 350ms/step - loss: 0.7058 - acc: 0.9375\n",
      "Epoch 5/15\n",
      "12/12 [==============================] - 4s 360ms/step - loss: 0.8816 - acc: 0.9375\n",
      "Epoch 6/15\n",
      "12/12 [==============================] - 5s 378ms/step - loss: 0.2886 - acc: 1.0000\n",
      "Epoch 7/15\n",
      "12/12 [==============================] - 5s 394ms/step - loss: 0.2180 - acc: 0.9732\n",
      "Epoch 8/15\n",
      "12/12 [==============================] - 5s 382ms/step - loss: 0.1621 - acc: 0.9911\n",
      "Epoch 9/15\n",
      "12/12 [==============================] - 5s 384ms/step - loss: 0.0331 - acc: 0.9911\n",
      "Epoch 10/15\n",
      "12/12 [==============================] - 5s 390ms/step - loss: 0.2106 - acc: 0.9732\n",
      "Epoch 11/15\n",
      "12/12 [==============================] - 5s 396ms/step - loss: 0.1329 - acc: 0.9821\n",
      "Epoch 12/15\n",
      "12/12 [==============================] - 5s 397ms/step - loss: 0.3903 - acc: 0.9732\n",
      "Epoch 13/15\n",
      "12/12 [==============================] - 5s 396ms/step - loss: 0.0919 - acc: 0.9911\n",
      "Epoch 14/15\n",
      "12/12 [==============================] - 5s 417ms/step - loss: 0.0502 - acc: 0.9911\n",
      "Epoch 15/15\n",
      "12/12 [==============================] - 5s 430ms/step - loss: 0.0011 - acc: 1.0000\n"
     ]
    },
    {
     "data": {
      "text/plain": [
       "<keras.callbacks.History at 0x7fa891244af0>"
      ]
     },
     "execution_count": 371,
     "metadata": {},
     "output_type": "execute_result"
    }
   ],
   "source": [
    "model = tf.keras.models.Sequential([\n",
    "    tf.keras.layers.Conv2D(16,(3,3),activation = \"relu\" , input_shape = (187,187,3)) ,\n",
    "    tf.keras.layers.MaxPooling2D(2,2),\n",
    "    tf.keras.layers.Conv2D(32,(3,3),activation = \"relu\") ,  \n",
    "    tf.keras.layers.MaxPooling2D(2,2),\n",
    "    tf.keras.layers.Flatten(),\n",
    "    tf.keras.layers.Dense(300,activation=\"relu\"),\n",
    "    tf.keras.layers.Dropout(0.4,seed = 2019),\n",
    "    tf.keras.layers.Dense(200,activation =\"relu\"),\n",
    "    tf.keras.layers.Dropout(0.2,seed = 2019),\n",
    "    tf.keras.layers.Dense(2,activation = \"softmax\")])\n",
    "\n",
    "model\n",
    "\n",
    "model.compile(optimizer='rmsprop', loss='binary_crossentropy', metrics=['acc'])\n",
    "model.fit(X_train, y_train, batch_size=10, epochs=15)"
   ]
  },
  {
   "cell_type": "code",
   "execution_count": 372,
   "metadata": {},
   "outputs": [
    {
     "name": "stdout",
     "output_type": "stream",
     "text": [
      "WARNING:tensorflow:6 out of the last 17 calls to <function Model.make_test_function.<locals>.test_function at 0x7fa89125e310> triggered tf.function retracing. Tracing is expensive and the excessive number of tracings could be due to (1) creating @tf.function repeatedly in a loop, (2) passing tensors with different shapes, (3) passing Python objects instead of tensors. For (1), please define your @tf.function outside of the loop. For (2), @tf.function has reduce_retracing=True option that can avoid unnecessary retracing. For (3), please refer to https://www.tensorflow.org/guide/function#controlling_retracing and https://www.tensorflow.org/api_docs/python/tf/function for  more details.\n",
      "Test loss: 5.988699913024902\n",
      "Test accuracy: 0.5862069129943848\n",
      "WARNING:tensorflow:6 out of the last 17 calls to <function Model.make_predict_function.<locals>.predict_function at 0x7fa89125ed30> triggered tf.function retracing. Tracing is expensive and the excessive number of tracings could be due to (1) creating @tf.function repeatedly in a loop, (2) passing tensors with different shapes, (3) passing Python objects instead of tensors. For (1), please define your @tf.function outside of the loop. For (2), @tf.function has reduce_retracing=True option that can avoid unnecessary retracing. For (3), please refer to https://www.tensorflow.org/guide/function#controlling_retracing and https://www.tensorflow.org/api_docs/python/tf/function for  more details.\n",
      "1/1 [==============================] - 0s 391ms/step\n"
     ]
    },
    {
     "data": {
      "text/plain": [
       "Text(69.0, 0.5, 'Actual')"
      ]
     },
     "execution_count": 372,
     "metadata": {},
     "output_type": "execute_result"
    },
    {
     "data": {
      "image/png": "[encoded data removed]",
      "text/plain": [
       "<Figure size 720x504 with 2 Axes>"
      ]
     },
     "metadata": {
      "needs_background": "light"
     },
     "output_type": "display_data"
    }
   ],
   "source": [
    "loss, accuracy = model.evaluate(X_test, y_test, verbose=0)\n",
    "print('Test loss:', loss)\n",
    "print('Test accuracy:', accuracy)\n",
    "\n",
    "y_pred = model.predict(X_test)\n",
    "actual = np.argmax(y_test,axis=1)\n",
    "predicted = np.argmax(y_pred,axis=1)\n",
    "\n",
    "confMatrix = confusion_matrix(actual, predicted)\n",
    "\n",
    "df_cm = pd.DataFrame(confMatrix, index = ['romance', 'action'],\n",
    "                  columns = ['romance', 'action'])\n",
    "plt.figure(figsize = (10,7))\n",
    "heat = sn.heatmap(df_cm, annot=True)\n",
    "heat.set_xlabel('Predicted', fontsize=15)\n",
    "heat.set_ylabel('Actual', fontsize=15)"
   ]
  },
  {
   "cell_type": "markdown",
   "metadata": {},
   "source": [
    "### romance v horror"
   ]
  },
  {
   "cell_type": "code",
   "execution_count": 373,
   "metadata": {},
   "outputs": [],
   "source": [
    "RCFrames = [train_rom, train_horr, test_rom, test_horr]\n",
    "\n",
    "RCtotal = pd.concat(RCFrames, ignore_index=True)\n",
    "\n",
    "X = RCtotal.iloc[:,0].values\n",
    "y = RCtotal.iloc[:,1].values\n",
    "\n",
    "y1 = encoder.fit_transform(y)\n",
    "Y = pd.get_dummies(y1).values\n",
    "\n",
    "arrList = []\n",
    "for image in X:\n",
    "    new = np.asarray(image)\n",
    "    arrList.append(new)\n",
    "\n",
    "finalX = np.asarray(arrList)\n",
    "\n",
    "X_train, X_test, y_train, y_test = train_test_split(finalX, Y, test_size=0.2, random_state=0)"
   ]
  },
  {
   "cell_type": "code",
   "execution_count": 374,
   "metadata": {},
   "outputs": [
    {
     "name": "stdout",
     "output_type": "stream",
     "text": [
      "Epoch 1/15\n",
      "15/15 [==============================] - 8s 379ms/step - loss: 471.2941 - acc: 0.5342\n",
      "Epoch 2/15\n",
      "15/15 [==============================] - 6s 383ms/step - loss: 19.2936 - acc: 0.6233\n",
      "Epoch 3/15\n",
      "15/15 [==============================] - 6s 369ms/step - loss: 2.4361 - acc: 0.8014\n",
      "Epoch 4/15\n",
      "15/15 [==============================] - 6s 388ms/step - loss: 1.0142 - acc: 0.8836\n",
      "Epoch 5/15\n",
      "15/15 [==============================] - 6s 390ms/step - loss: 0.7775 - acc: 0.9315\n",
      "Epoch 6/15\n",
      "15/15 [==============================] - 6s 401ms/step - loss: 0.2751 - acc: 0.9863\n",
      "Epoch 7/15\n",
      "15/15 [==============================] - 6s 401ms/step - loss: 0.0865 - acc: 1.0000\n",
      "Epoch 8/15\n",
      "15/15 [==============================] - 6s 409ms/step - loss: 0.1771 - acc: 0.9795\n",
      "Epoch 9/15\n",
      "15/15 [==============================] - 7s 437ms/step - loss: 0.2347 - acc: 0.9726\n",
      "Epoch 10/15\n",
      "15/15 [==============================] - 6s 414ms/step - loss: 0.0713 - acc: 1.0000\n",
      "Epoch 11/15\n",
      "15/15 [==============================] - 6s 427ms/step - loss: 0.3115 - acc: 0.9795\n",
      "Epoch 12/15\n",
      "15/15 [==============================] - 6s 408ms/step - loss: 0.0072 - acc: 1.0000\n",
      "Epoch 13/15\n",
      "15/15 [==============================] - 6s 415ms/step - loss: 0.3860 - acc: 0.9795\n",
      "Epoch 14/15\n",
      "15/15 [==============================] - 6s 416ms/step - loss: 4.5283e-04 - acc: 1.0000\n",
      "Epoch 15/15\n",
      "15/15 [==============================] - 7s 441ms/step - loss: 0.0040 - acc: 1.0000\n"
     ]
    },
    {
     "data": {
      "text/plain": [
       "<keras.callbacks.History at 0x7fa88ceabfa0>"
      ]
     },
     "execution_count": 374,
     "metadata": {},
     "output_type": "execute_result"
    }
   ],
   "source": [
    "model = tf.keras.models.Sequential([\n",
    "    tf.keras.layers.Conv2D(16,(3,3),activation = \"relu\" , input_shape = (187,187,3)) ,\n",
    "    tf.keras.layers.MaxPooling2D(2,2),\n",
    "    tf.keras.layers.Conv2D(32,(3,3),activation = \"relu\") ,  \n",
    "    tf.keras.layers.MaxPooling2D(2,2),\n",
    "    tf.keras.layers.Flatten(),\n",
    "    tf.keras.layers.Dense(300,activation=\"relu\"),\n",
    "    tf.keras.layers.Dropout(0.4,seed = 2019),\n",
    "    tf.keras.layers.Dense(200,activation =\"relu\"),\n",
    "    tf.keras.layers.Dropout(0.2,seed = 2019),\n",
    "    tf.keras.layers.Dense(2,activation = \"softmax\")])\n",
    "\n",
    "model\n",
    "\n",
    "model.compile(optimizer='rmsprop', loss='binary_crossentropy', metrics=['acc'])\n",
    "model.fit(X_train, y_train, batch_size=10, epochs=15)"
   ]
  },
  {
   "cell_type": "code",
   "execution_count": 375,
   "metadata": {},
   "outputs": [
    {
     "name": "stdout",
     "output_type": "stream",
     "text": [
      "Test loss: 8.799479484558105\n",
      "Test accuracy: 0.5945945978164673\n",
      "2/2 [==============================] - 1s 78ms/step\n"
     ]
    },
    {
     "data": {
      "text/plain": [
       "Text(69.0, 0.5, 'Actual')"
      ]
     },
     "execution_count": 375,
     "metadata": {},
     "output_type": "execute_result"
    },
    {
     "data": {
      "image/png": "[encoded data removed]",
      "text/plain": [
       "<Figure size 720x504 with 2 Axes>"
      ]
     },
     "metadata": {
      "needs_background": "light"
     },
     "output_type": "display_data"
    }
   ],
   "source": [
    "loss, accuracy = model.evaluate(X_test, y_test, verbose=0)\n",
    "print('Test loss:', loss)\n",
    "print('Test accuracy:', accuracy)\n",
    "\n",
    "y_pred = model.predict(X_test)\n",
    "actual = np.argmax(y_test,axis=1)\n",
    "predicted = np.argmax(y_pred,axis=1)\n",
    "\n",
    "confMatrix = confusion_matrix(actual, predicted)\n",
    "\n",
    "df_cm = pd.DataFrame(confMatrix, index = ['romance', 'horror'],\n",
    "                  columns = ['romance', 'horror'])\n",
    "plt.figure(figsize = (10,7))\n",
    "heat = sn.heatmap(df_cm, annot=True)\n",
    "heat.set_xlabel('Predicted', fontsize=15)\n",
    "heat.set_ylabel('Actual', fontsize=15)"
   ]
  },
  {
   "cell_type": "code",
   "execution_count": 376,
   "metadata": {},
   "outputs": [
    {
     "name": "stdout",
     "output_type": "stream",
     "text": [
      "[0 1 1 0 0 0 1 1 1 0 1 0 0 0 0 1 0 0 0 1 0 1 1 1 1 0 0 0 1 0 0 1 1 1 0 0 1]\n",
      "[0 0 0 0 0 0 0 0 0 0 0 0 0 0 0 0 0 0 0 1 0 0 0 0 1 0 0 0 0 1 0 0 1 0 0 0 0]\n"
     ]
    }
   ],
   "source": [
    "print(actual)\n",
    "print(predicted)"
   ]
  }
 ],
 "metadata": {
  "kernelspec": {
   "display_name": "Python 3.8.8 ('base')",
   "language": "python",
   "name": "python3"
  },
  "language_info": {
   "codemirror_mode": {
    "name": "ipython",
    "version": 3
   },
   "file_extension": ".py",
   "mimetype": "text/x-python",
   "name": "python",
   "nbconvert_exporter": "python",
   "pygments_lexer": "ipython3",
   "version": "3.8.8"
  },
  "orig_nbformat": 4,
  "vscode": {
   "interpreter": {
    "hash": "ef1133cb94520279eaa1c9ecd96dc6c8d72b74fffc29512d040a68319443e925"
   }
  }
 },
 "nbformat": 4,
 "nbformat_minor": 2
}
